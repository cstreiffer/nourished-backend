{
 "cells": [
  {
   "cell_type": "code",
   "execution_count": 16,
   "metadata": {},
   "outputs": [],
   "source": [
    "import pandas as pd\n",
    "import numpy as np\n",
    "import json\n",
    "from datetime import datetime"
   ]
  },
  {
   "cell_type": "code",
   "execution_count": 17,
   "metadata": {},
   "outputs": [],
   "source": [
    "seedData = pd.read_csv('data/seed_data.csv')"
   ]
  },
  {
   "cell_type": "code",
   "execution_count": 18,
   "metadata": {},
   "outputs": [],
   "source": [
    "# Convert the date correctly\n",
    "def getDate(r):\n",
    "    time = ''\n",
    "    if(r['meal'] == 'Lunch'):\n",
    "        time = '12:00:00-04'\n",
    "    elif(r['hospital'] == 'Hospital of the University of Pennsylvania (HUP)'):\n",
    "        time = '20:30:00-04'\n",
    "    elif(r['meal'] == 'Dinner'):\n",
    "        time = '20:00:00-04'\n",
    "    else:\n",
    "        print(r)\n",
    "    date = [\"%02d\" % int(v) for v in r['date'].split('/')]\n",
    "    date = \"20%s-%s-%s\" % (date[2], date[0], date[1])\n",
    "    return (\"%s %s\" % (date, time))\n",
    "\n",
    "seedData['timeslot'] = seedData[['hospital', 'date', 'meal']].apply(getDate, axis=1)\n",
    "seedData = seedData.fillna(value=False)"
   ]
  },
  {
   "cell_type": "code",
   "execution_count": 19,
   "metadata": {},
   "outputs": [
    {
     "data": {
      "text/plain": [
       "array([False, 'Dairy', 'Eggs', 'Eggs in aioli', 'Milk/dairy',\n",
       "       'Pumpkin seeds (seed allergy)', 'Sesame', 'Soy', 'Soy, Sesame',\n",
       "       'Soy, Sesame Oil', 'Soy,Sesame', 'Soy,Sesame Oil'], dtype=object)"
      ]
     },
     "execution_count": 19,
     "metadata": {},
     "output_type": "execute_result"
    }
   ],
   "source": [
    "np.unique(np.concatenate([seedData['mealAllergens%i' %i].unique() for i in range(1, 5)]))"
   ]
  },
  {
   "cell_type": "code",
   "execution_count": 20,
   "metadata": {},
   "outputs": [],
   "source": [
    "dietLookup = {\n",
    "  \"V\" : \"Vegan\",\n",
    "  \"VG\" : \"Vegetarian\",\n",
    "  \"GF\" : \"Gluten Free\",\n",
    "  \"DF\" : \"Dairy Free\",\n",
    "}\n",
    "allergenLookup = {\n",
    "  'Milk/dairy' : \"milk/dairy\",\n",
    "  'Eggs' : \"eggs\",\n",
    "  'Eggs in aioli' : 'eggs',\n",
    "  'Pumpkin seeds (seed allergy)' : \"pumpkin seeds\",\n",
    "  'Sesame' : 'sesame',\n",
    "  'Sesame Oil' : 'sesame',\n",
    "  'Soy' : 'soy',\n",
    "  'Dairy' : 'milk/dairy'\n",
    "}"
   ]
  },
  {
   "cell_type": "code",
   "execution_count": 21,
   "metadata": {},
   "outputs": [],
   "source": [
    "# Build the restaurant struct\n",
    "restStruct = {}\n",
    "\n",
    "def dateCompare(t0, t1='2020-04-29 00:00:00-04'):\n",
    "    v1 = datetime.strptime(t0, '%Y-%m-%d %H:%M:%S-04')\n",
    "    v2 = datetime.strptime(t1, '%Y-%m-%d %H:%M:%S-04')\n",
    "    return v1 > v2\n",
    "\n",
    "def buildStruct(r):\n",
    "    restName = r['restName']\n",
    "    restStruct[restName] = restStruct.get(restName, {\"mealIds\": {}, \"meals\": [], \"timeslots\": [], \"menus\": []})\n",
    "    # Create the timeslot and add to list\n",
    "    timeslotId = str((\"%s-%s-%s\" % (restName, r['timeslot'], r['hospital'])).__hash__())\n",
    "    timeslot = {\n",
    "        \"id\": timeslotId,\n",
    "        \"hospital\": r['hospital'],\n",
    "        \"restaurant\": r['restName'],\n",
    "        \"date\": r['timeslot']\n",
    "    }\n",
    "    if dateCompare(r['timeslot']):\n",
    "        restStruct[restName]['timeslots'].append(timeslot) \n",
    "    # Generate the meals/menus\n",
    "    for i in range(1, 5):\n",
    "        mealName = r[\"mealName%d\" % i]\n",
    "        if(mealName):\n",
    "            allergens, dietaryRestrictions = [], []\n",
    "            if(r['mealAllergens%d' %i]):\n",
    "#                 print(r['mealAllergens%d' %i])\n",
    "                allergens = [v.lstrip().rstrip() for v in r['mealAllergens%d' %i].split(',')]\n",
    "                allergens = [allergenLookup[a] for a in allergens]\n",
    "            if(r['mealDiet%d' % i]):\n",
    "#                 print(r['mealDiet%d' % i])\n",
    "                dietaryRestrictions = [v.lstrip().rstrip() for v in r['mealDiet%d' % i].split('-')]\n",
    "                dietaryRestrictions = [dietLookup[d] for d in dietaryRestrictions]\n",
    "        \n",
    "            \n",
    "            # Check if meal exists else add\n",
    "            if(not mealName in restStruct[r['restName']]['mealIds']):\n",
    "                meal = {\n",
    "                    \"name\": mealName,\n",
    "                    \"restName\": restName,\n",
    "                    \"description\": r['mealDesc%d' %i],\n",
    "                    \"allergens\" : allergens,\n",
    "                    \"dietaryRestrictions\": dietaryRestrictions,\n",
    "                    \"mealinfoId\": r['meal'].lower()\n",
    "                }\n",
    "                restStruct[restName]['mealIds'][mealName] = meal\n",
    "                restStruct[restName]['meals'].append(meal)\n",
    "            # Add the menu to the list\n",
    "            menu = {\n",
    "                \"timeslotId\": timeslotId,\n",
    "                \"mealinfoId\": r['meal'].lower(),\n",
    "                \"mealName\": mealName,\n",
    "                \"mealDescription\": r['mealDesc%d' %i],\n",
    "                \"allergens\" : allergens,\n",
    "                \"dietaryRestrictions\": dietaryRestrictions,\n",
    "            }\n",
    "            if dateCompare(r['timeslot']):\n",
    "                restStruct[restName]['menus'].append(menu)\n",
    "            \n",
    "s = seedData.apply(buildStruct, axis=1)"
   ]
  },
  {
   "cell_type": "code",
   "execution_count": 22,
   "metadata": {},
   "outputs": [],
   "source": [
    "dataOut = json.dumps(restStruct, indent=2)\n",
    "with open(\"seed_data.json\", \"w\") as outfile: \n",
    "    outfile.write(dataOut) "
   ]
  },
  {
   "cell_type": "code",
   "execution_count": null,
   "metadata": {},
   "outputs": [],
   "source": []
  }
 ],
 "metadata": {
  "kernelspec": {
   "display_name": "Python 2",
   "language": "python",
   "name": "python2"
  },
  "language_info": {
   "codemirror_mode": {
    "name": "ipython",
    "version": 2
   },
   "file_extension": ".py",
   "mimetype": "text/x-python",
   "name": "python",
   "nbconvert_exporter": "python",
   "pygments_lexer": "ipython2",
   "version": "2.7.10"
  }
 },
 "nbformat": 4,
 "nbformat_minor": 2
}
