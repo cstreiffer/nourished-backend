{
 "cells": [
  {
   "cell_type": "code",
   "execution_count": 1,
   "metadata": {},
   "outputs": [],
   "source": [
    "import pandas as pd\n",
    "import numpy as np\n",
    "import json\n",
    "import csv\n",
    "from datetime import datetime"
   ]
  },
  {
   "cell_type": "code",
   "execution_count": 2,
   "metadata": {},
   "outputs": [],
   "source": [
    "menuDir = 'data-live-week5'\n",
    "restsOld = pd.read_csv('%s/restaurants_prod.csv' % menuDir)\n",
    "hospsOld = pd.read_csv('%s/hospitals_prod.csv' % menuDir)\n",
    "seedData = pd.read_csv('%s/seed_data.csv' % menuDir)"
   ]
  },
  {
   "cell_type": "code",
   "execution_count": 3,
   "metadata": {},
   "outputs": [],
   "source": [
    "restDict = {}\n",
    "hospDict = {}\n",
    "def restToDict(r):\n",
    "    restDict[r.restName] = {\"id\":r.id, \"userId\":r.userId}\n",
    "def hospToDict(r):\n",
    "    hospDict[r.hospName] = {\"id\":r.id}\n",
    "\n",
    "v = restsOld.apply(restToDict, axis=1)\n",
    "v = hospsOld.apply(hospToDict, axis=1)"
   ]
  },
  {
   "cell_type": "code",
   "execution_count": 4,
   "metadata": {},
   "outputs": [],
   "source": [
    "# Convert the date correctly\n",
    "def getDate(r):\n",
    "    time = ''\n",
    "    if(r['meal'] == 'Lunch' and r['hospital'] == 'Pennsylvania Hospital (PAH, Pennsy)'):\n",
    "        time = '12:15:00-04'\n",
    "    elif(r['meal'] == 'Lunch'):\n",
    "        time = '12:00:00-04'\n",
    "    elif(r['meal'] == 'Dinner' and r['hospital'] == 'Pennsylvania Hospital (PAH, Pennsy)'):\n",
    "        time = '17:15:00-04'\n",
    "    elif(r['meal'] == 'Dinner'):\n",
    "        time = '17:00:00-04'\n",
    "    else:\n",
    "        print(r)\n",
    "    date = [\"%02d\" % int(v) for v in r['date'].split('/')]\n",
    "    date = \"%s-%s-%s\" % (date[2], date[0], date[1])\n",
    "    return (\"%s %s\" % (date, time))\n",
    "\n",
    "seedData['timeslot'] = seedData[['hospital', 'date', 'meal']].apply(getDate, axis=1)\n",
    "seedData = seedData.fillna(value=False)"
   ]
  },
  {
   "cell_type": "code",
   "execution_count": 5,
   "metadata": {},
   "outputs": [],
   "source": [
    "# Build the restaurant struct\n",
    "restStruct = {}\n",
    "\n",
    "def dateCompare(t0, t1='2020-05-18 00:00:00-04'):\n",
    "    v1 = datetime.strptime(t0, '%Y-%m-%d %H:%M:%S-04')\n",
    "    v2 = datetime.strptime(t1, '%Y-%m-%d %H:%M:%S-04')\n",
    "    return v1 > v2\n",
    "\n",
    "def buildStruct(r):\n",
    "    restName = r['restName']\n",
    "    restStruct[restName] = restStruct.get(restName, {\"mealIds\": {}, \"meals\": [], \"timeslots\": [], \"menus\": []})\n",
    "    # Create the timeslot and add to list\n",
    "    timeslotId = str((\"%s-%s-%s\" % (restName, r['timeslot'], r['hospital'])).__hash__())\n",
    "    timeslot = {\n",
    "        \"id\": timeslotId,\n",
    "        \"hospitalId\": hospDict[r['hospital']]['id'],\n",
    "        \"restaurantId\": restDict[r['restName']]['id'],\n",
    "        \"date\": r['timeslot'],\n",
    "        \"userId\": restDict[r['restName']]['userId']\n",
    "    }\n",
    "    if dateCompare(r['timeslot']):\n",
    "        restStruct[restName]['timeslots'].append(timeslot) \n",
    "s = seedData.apply(buildStruct, axis=1)"
   ]
  },
  {
   "cell_type": "code",
   "execution_count": 6,
   "metadata": {},
   "outputs": [],
   "source": [
    "dataOut = json.dumps(restStruct, indent=2)\n",
    "with open(\"update_data.json\", \"w\") as outfile: \n",
    "    outfile.write(dataOut) "
   ]
  },
  {
   "cell_type": "code",
   "execution_count": 7,
   "metadata": {},
   "outputs": [],
   "source": [
    "# Output the csvs\n",
    "with open(\"timeslot_data.csv\", \"w\") as outfile:\n",
    "    writer = csv.writer(outfile)\n",
    "    writer.writerow(['id', 'restaurantId', 'hospitalId', 'userId', 'date'])\n",
    "    for restName in restStruct:\n",
    "        for ts in restStruct[restName]['timeslots']:\n",
    "            writer.writerow([ts['id'], ts['restaurantId'], ts['hospitalId'], ts['userId'], ts['date']])"
   ]
  },
  {
   "cell_type": "code",
   "execution_count": 8,
   "metadata": {},
   "outputs": [],
   "source": [
    "# Output the csvs\n",
    "# with open(\"menu_data.csv\", \"w\") as outfile:\n",
    "#     writer = csv.writer(outfile)\n",
    "#     writer.writerow(['timeslotId', 'mealinfoId', 'userId', 'mealName', 'mealDescription', 'allergens', 'dietaryRestrictions'])\n",
    "#     for restName in restStruct:\n",
    "#         for ts in restStruct[restName]['menus']:\n",
    "#             writer.writerow([ts['timeslotId'], ts['mealinfoId'], ts['userId'], ts['mealName'], ts['mealDescription'], ts['allergens'], ts['dietaryRestrictions']])\n",
    "            "
   ]
  },
  {
   "cell_type": "code",
   "execution_count": 9,
   "metadata": {},
   "outputs": [],
   "source": [
    "# Output the csvs\n",
    "# with open(\"meal_data.csv\", \"w\") as outfile:\n",
    "#     writer = csv.writer(outfile)\n",
    "#     writer.writerow(['restaurantId', 'mealinfoId', 'userId', 'mealName', 'mealDescription', 'allergens', 'dietaryRestrictions'])\n",
    "#     for restName in restStruct:\n",
    "#         for ts in restStruct[restName]['meals']:\n",
    "#             writer.writerow([ts['restaurantId'], ts['mealinfoId'], ts['userId'], ts['name'], ts['description'], ts['allergens'], ts['dietaryRestrictions']])\n",
    "       \n"
   ]
  },
  {
   "cell_type": "code",
   "execution_count": 10,
   "metadata": {},
   "outputs": [],
   "source": [
    "    # Generate the meals/menus\n",
    "#     for i in range(1, 5):\n",
    "#         mealName = r[\"mealName%d\" % i]\n",
    "#         if(mealName):\n",
    "#             mealName = mealName.rstrip()\n",
    "#             allergens, dietaryRestrictions = [], []\n",
    "#             if(r['mealAllergens%d' %i]):\n",
    "#                 allergens = [v.lstrip().rstrip() for v in r['mealAllergens%d' %i].split(',')]\n",
    "#                 allergens = [allergenLookup[a] for a in allergens]\n",
    "#             if(r['mealDiet%d' % i]):\n",
    "#                 dietaryRestrictions = [v.lstrip().rstrip() for v in r['mealDiet%d' % i].split(',')]\n",
    "#                 dietaryRestrictions = [dietLookup[d] for d in dietaryRestrictions]\n",
    "#         # Check if meal exists else add\n",
    "#             if(not mealName in mealDict):\n",
    "#                 print(mealName, restName);\n",
    "#                 meal = {\n",
    "#                     \"name\": mealName,\n",
    "#                     \"description\": r['mealDesc%d' %i],\n",
    "#                     \"allergens\" : allergens,\n",
    "#                     \"dietaryRestrictions\": dietaryRestrictions,\n",
    "#                     \"mealinfoId\": r['meal'].lower() + 'New',\n",
    "#                     \"restaurantId\": restDict[r['restName']]['id'],\n",
    "#                     \"userId\": restDict[r['restName']]['userId']\n",
    "#                 }\n",
    "#                 mealDict[mealName] = meal\n",
    "#                 restStruct[restName]['meals'].append(meal)\n",
    "#             # Add the menu to the list\n",
    "#             menu = {\n",
    "#                 \"timeslotId\": timeslotId,\n",
    "#                 \"mealinfoId\": r['meal'].lower() + 'New',\n",
    "#                 \"mealName\": mealName,\n",
    "#                 \"mealDescription\": r['mealDesc%d' %i],\n",
    "#                 \"allergens\" : allergens,\n",
    "#                 \"dietaryRestrictions\": dietaryRestrictions,\n",
    "#                 \"userId\": restDict[r['restName']]['userId']\n",
    "#             }\n",
    "#             if dateCompare(r['timeslot']):\n",
    "#                 restStruct[restName]['menus'].append(menu)"
   ]
  },
  {
   "cell_type": "code",
   "execution_count": 11,
   "metadata": {},
   "outputs": [],
   "source": [
    "# dietLookup = {\n",
    "#   \"V\" : \"Vegan\",\n",
    "#   \"VG\" : \"Vegetarian\",\n",
    "#   \"GF\" : \"Gluten Free\",\n",
    "#   \"DF\" : \"Dairy Free\",\n",
    "#   \"Vegan\": \"Vegan\",\n",
    "#   \"Vegetarian\" : \"Vegetarian\",\n",
    "#   \"Dairy-Free\": \"Dairy Free\",\n",
    "#   \"Gluten-Free\" : \"Gluten Free\"\n",
    "# }\n",
    "# allergenLookup = {\n",
    "#   'Milk/Dairy' : 'milk/dairy',\n",
    "#   'Milk/dairy' : \"milk/dairy\",\n",
    "#   'Eggs' : \"eggs\",\n",
    "#   'Eggs in aioli' : 'eggs',\n",
    "#   'Pumpkin seeds (seed allergy)' : \"pumpkin seeds\",\n",
    "#   'Sesame' : 'sesame',\n",
    "#   'Sesame Oil' : 'sesame',\n",
    "#   'Soy' : 'soy',\n",
    "#   'Dairy' : 'milk/dairy',\n",
    "#   'Tree nuts' : 'tree nuts',\n",
    "#   'Fish': 'fish',\n",
    "#   'Shellfish' : 'shellfish',\n",
    "#   'Wheat' : 'wheat',\n",
    "#   'Peanuts': 'peanuts'\n",
    "# }"
   ]
  }
 ],
 "metadata": {
  "kernelspec": {
   "display_name": "Python 2",
   "language": "python",
   "name": "python2"
  },
  "language_info": {
   "codemirror_mode": {
    "name": "ipython",
    "version": 2
   },
   "file_extension": ".py",
   "mimetype": "text/x-python",
   "name": "python",
   "nbconvert_exporter": "python",
   "pygments_lexer": "ipython2",
   "version": "2.7.10"
  }
 },
 "nbformat": 4,
 "nbformat_minor": 2
}
