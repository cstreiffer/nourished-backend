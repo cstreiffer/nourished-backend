{
 "cells": [
  {
   "cell_type": "code",
   "execution_count": 1,
   "metadata": {},
   "outputs": [],
   "source": [
    "import pandas as pd\n",
    "import numpy as np\n",
    "import json\n",
    "import csv\n",
    "from datetime import datetime"
   ]
  },
  {
   "cell_type": "code",
   "execution_count": 2,
   "metadata": {},
   "outputs": [],
   "source": [
    "usersOld = pd.read_csv('data-live/users_prod.csv')\n",
    "restsOld = pd.read_csv('data-live/restaurants_prod.csv')\n",
    "mealsOld = pd.read_csv('data-live/meals_prod.csv')\n",
    "hospsOld = pd.read_csv('data-live/hospitals_prod.csv')\n",
    "# infosOld = pd.read_csv('data-live/mealinfo_prod.csv')\n",
    "seedData = pd.read_csv('data-live/seed_data.csv')"
   ]
  },
  {
   "cell_type": "code",
   "execution_count": 3,
   "metadata": {},
   "outputs": [],
   "source": [
    "userDict = {}\n",
    "restDict = {}\n",
    "mealDict = {}\n",
    "infoDict = {}\n",
    "hospDict = {}\n",
    "def userToDict(r):\n",
    "    userDict[r.username] = {\"id\":r.id}\n",
    "def restToDict(r):\n",
    "    restDict[r.restName] = {\"id\":r.id, \"userId\":r.userId}\n",
    "def mealToDict(r):\n",
    "    mealDict[r.mealName.rstrip()] = {\"id\":r.id, \"restName\":r.restName, \"userId\":r.userId, \"mealName\" : r.mealName}\n",
    "def infoToDict(r):\n",
    "    infoDict[r.type] = {\"id\":r.id}\n",
    "def hospToDict(r):\n",
    "    hospDict[r.hospName] = {\"id\":r.id}\n",
    "\n",
    "v = usersOld.apply(userToDict, axis=1)\n",
    "v = restsOld.apply(restToDict, axis=1)\n",
    "v = mealsOld.apply(mealToDict, axis=1)\n",
    "# v = infosOld.apply(infoToDict, axis=1)\n",
    "v = hospsOld.apply(hospToDict, axis=1)"
   ]
  },
  {
   "cell_type": "code",
   "execution_count": null,
   "metadata": {},
   "outputs": [],
   "source": []
  },
  {
   "cell_type": "code",
   "execution_count": 4,
   "metadata": {},
   "outputs": [],
   "source": [
    "# Convert the date correctly\n",
    "def getDate(r):\n",
    "    time = ''\n",
    "    if(r['meal'] == 'Lunch'):\n",
    "        time = '12:00:00-04'\n",
    "    elif(r['hospital'] == 'Hospital of the University of Pennsylvania (HUP)'):\n",
    "        time = '20:30:00-04'\n",
    "    elif(r['meal'] == 'Dinner'):\n",
    "        time = '20:00:00-04'\n",
    "    else:\n",
    "        print(r)\n",
    "    date = [\"%02d\" % int(v) for v in r['date'].split('/')]\n",
    "    date = \"%s-%s-%s\" % (date[2], date[0], date[1])\n",
    "    return (\"%s %s\" % (date, time))\n",
    "\n",
    "seedData['timeslot'] = seedData[['hospital', 'date', 'meal']].apply(getDate, axis=1)\n",
    "seedData = seedData.fillna(value=False)"
   ]
  },
  {
   "cell_type": "code",
   "execution_count": 5,
   "metadata": {},
   "outputs": [
    {
     "data": {
      "text/plain": [
       "array([False, 'Dairy-Free', 'Gluten-Free', 'Gluten-Free, Dairy-Free',\n",
       "       'Vegan', 'Vegan, Dairy-Free', 'Vegan, Gluten-Free',\n",
       "       'Vegan, Gluten-Free, Dairy-Free', 'Vegan, Vegetarian, Dairy-Free',\n",
       "       'Vegan, Vegetarian, Gluten-Free',\n",
       "       'Vegan, Vegetarian, Gluten-Free, Dairy-Free', 'Vegetarian',\n",
       "       'Vegetarian, Dairy-Free', 'Vegetarian, Gluten-Free',\n",
       "       'Vegetarian, Gluten-Free, Dairy-Free'], dtype=object)"
      ]
     },
     "execution_count": 5,
     "metadata": {},
     "output_type": "execute_result"
    }
   ],
   "source": [
    "np.unique(np.concatenate([seedData['mealDiet%i' %i].unique() for i in range(1, 5)]))"
   ]
  },
  {
   "cell_type": "code",
   "execution_count": 6,
   "metadata": {},
   "outputs": [],
   "source": [
    "dietLookup = {\n",
    "  \"V\" : \"Vegan\",\n",
    "  \"VG\" : \"Vegetarian\",\n",
    "  \"GF\" : \"Gluten Free\",\n",
    "  \"DF\" : \"Dairy Free\",\n",
    "  \"Vegan\": \"Vegan\",\n",
    "  \"Vegetarian\" : \"Vegetarian\",\n",
    "  \"Dairy-Free\": \"Dairy Free\",\n",
    "  \"Gluten-Free\" : \"Gluten Free\"\n",
    "}\n",
    "allergenLookup = {\n",
    "  'Milk/Dairy' : 'milk/dairy',\n",
    "  'Milk/dairy' : \"milk/dairy\",\n",
    "  'Eggs' : \"eggs\",\n",
    "  'Eggs in aioli' : 'eggs',\n",
    "  'Pumpkin seeds (seed allergy)' : \"pumpkin seeds\",\n",
    "  'Sesame' : 'sesame',\n",
    "  'Sesame Oil' : 'sesame',\n",
    "  'Soy' : 'soy',\n",
    "  'Dairy' : 'milk/dairy',\n",
    "  'Tree nuts' : 'tree nuts',\n",
    "  'Fish': 'fish',\n",
    "  'Shellfish' : 'shellfish',\n",
    "  'Wheat' : 'wheat',\n",
    "  'Peanuts': 'peanuts'\n",
    "}"
   ]
  },
  {
   "cell_type": "code",
   "execution_count": 7,
   "metadata": {},
   "outputs": [
    {
     "name": "stdout",
     "output_type": "stream",
     "text": [
      "('Southern Caesar Salad', 'Rex 1516')\n",
      "('Strawberry Salad', 'Rex 1516')\n",
      "('Smoked Brisket Sandwich', 'Rex 1516')\n",
      "('Blackened Shrimp Po\\xe2\\x80\\x99Boy', 'Rex 1516')\n",
      "('Roasted chicken with a Taiwanese salad', 'Baology')\n",
      "('Seared Jail Island Salmon with a Taiwanese salad', 'Baology')\n",
      "('Roasted Local Mushrooms with a Taiwanese salad', 'Baology')\n",
      "('Cobb Salad w/ Blackened Chicken', 'On Point Bistro')\n",
      "('Ensalada Ynez', 'Cafe Ynez')\n",
      "('Chicken quesadilla', 'Cafe Ynez')\n",
      "('Carnitas burrito', 'Cafe Ynez')\n",
      "('Roasted Pork Belly with Egg Fried Forbidden Rice', 'Baology')\n",
      "('5-Spiced Local Tofu with Egg Fried Forbidden Rice', 'Baology')\n",
      "('Cheese enchiladas', 'Cafe Ynez')\n",
      "('Veggie quesadilla', 'Cafe Ynez')\n",
      "('Marinated Shrimp, Avocado, Guajillo, Radish', 'Pumpkin')\n",
      "('Gem Lettuce Salad, Carrot, Thai Basil Ranch', 'Pumpkin')\n",
      "('Smoked Garlic Sausage, Polenta, Shallot Confit, Escarole', 'Pumpkin')\n",
      "('Chicken enchiladas', 'Cafe Ynez')\n",
      "('Steak quesadilla', 'Cafe Ynez')\n",
      "('Roasted Pastured Chicken Bento/Bian Dang', 'Baology')\n",
      "('Shredded Heritage Pork Bento/Bian Dang', 'Baology')\n",
      "('Sweet & Sour Local Tofu Bento/Bian Dang', 'Baology')\n",
      "('Mee Hoon Goreng', 'Sate Kampar')\n",
      "('Nasi Lemak', 'Sate Kampar')\n",
      "('Grilled Chicken Entree', 'On Point Bistro')\n",
      "('VEGAN Spring Risotto', 'On Point Bistro')\n",
      "('Greek Salad w/ Falafel', 'On Point Bistro')\n",
      "('Enchilada Style tostada', 'El Merkury')\n",
      "('Veggie Enchilada Style Tostada', 'El Merkury')\n",
      "('Chiles Rellenos', 'El Merkury')\n",
      "('Fried Chayote', 'El Merkury')\n",
      "('Caesar Salad w/ Grilled Chicken', 'On Point Bistro')\n",
      "('VEGAN Housemade Black Bean Burger', 'On Point Bistro')\n",
      "('Shells and cheese', 'Rex 1516')\n",
      "('Rex Cheeseburger', 'Rex 1516')\n",
      "('Grilled broccoli salad', 'Rex 1516')\n",
      "('Grilled chicken green salad', 'Rex 1516')\n",
      "('Ayam Kurma', 'Sate Kampar')\n",
      "('Cold Longevity Noodles with Roasted Chicken', 'Baology')\n",
      "('Cold Longevity Noodles with Shredded Heritage Pork', 'Baology')\n",
      "('Cold Longevity Noodles with Soy-Braised Egg', 'Baology')\n",
      "('Chicken & Cheese Pupusa', 'El Merkury')\n",
      "('Vegan Black Bean Pupusas', 'El Merkury')\n",
      "('Rice & Beans with Pork', 'El Merkury')\n",
      "('Traditional Rice and beans with avocado.', 'El Merkury')\n"
     ]
    }
   ],
   "source": [
    "# Build the restaurant struct\n",
    "restStruct = {}\n",
    "\n",
    "def dateCompare(t0, t1='2020-05-10 00:00:00-04'):\n",
    "    v1 = datetime.strptime(t0, '%Y-%m-%d %H:%M:%S-04')\n",
    "    v2 = datetime.strptime(t1, '%Y-%m-%d %H:%M:%S-04')\n",
    "    return v1 > v2\n",
    "\n",
    "def buildStruct(r):\n",
    "    restName = r['restName']\n",
    "    restStruct[restName] = restStruct.get(restName, {\"mealIds\": {}, \"meals\": [], \"timeslots\": [], \"menus\": []})\n",
    "    # Create the timeslot and add to list\n",
    "    timeslotId = str((\"%s-%s-%s\" % (restName, r['timeslot'], r['hospital'])).__hash__())\n",
    "    timeslot = {\n",
    "        \"id\": timeslotId,\n",
    "        \"hospitalId\": hospDict[r['hospital']]['id'],\n",
    "        \"restaurantId\": restDict[r['restName']]['id'],\n",
    "        \"date\": r['timeslot'],\n",
    "        \"userId\": restDict[r['restName']]['userId']\n",
    "    }\n",
    "    if dateCompare(r['timeslot']):\n",
    "        restStruct[restName]['timeslots'].append(timeslot) \n",
    "    # Generate the meals/menus\n",
    "    for i in range(1, 5):\n",
    "        mealName = r[\"mealName%d\" % i]\n",
    "        if(mealName):\n",
    "            mealName = mealName.rstrip()\n",
    "            allergens, dietaryRestrictions = [], []\n",
    "            if(r['mealAllergens%d' %i]):\n",
    "                allergens = [v.lstrip().rstrip() for v in r['mealAllergens%d' %i].split(',')]\n",
    "                allergens = [allergenLookup[a] for a in allergens]\n",
    "            if(r['mealDiet%d' % i]):\n",
    "                dietaryRestrictions = [v.lstrip().rstrip() for v in r['mealDiet%d' % i].split(',')]\n",
    "                dietaryRestrictions = [dietLookup[d] for d in dietaryRestrictions]\n",
    "        # Check if meal exists else add\n",
    "            if(not mealName in mealDict):\n",
    "                print(mealName, restName);\n",
    "                meal = {\n",
    "                    \"name\": mealName,\n",
    "                    \"description\": r['mealDesc%d' %i],\n",
    "                    \"allergens\" : allergens,\n",
    "                    \"dietaryRestrictions\": dietaryRestrictions,\n",
    "                    \"mealinfoId\": r['meal'].lower() + 'New',\n",
    "                    \"restaurantId\": restDict[r['restName']]['id'],\n",
    "                    \"userId\": restDict[r['restName']]['userId']\n",
    "                }\n",
    "                mealDict[mealName] = meal\n",
    "                restStruct[restName]['meals'].append(meal)\n",
    "            # Add the menu to the list\n",
    "            menu = {\n",
    "                \"timeslotId\": timeslotId,\n",
    "                \"mealinfoId\": r['meal'].lower() + 'New',\n",
    "                \"mealName\": mealName,\n",
    "                \"mealDescription\": r['mealDesc%d' %i],\n",
    "                \"allergens\" : allergens,\n",
    "                \"dietaryRestrictions\": dietaryRestrictions,\n",
    "                \"userId\": restDict[r['restName']]['userId']\n",
    "            }\n",
    "            if dateCompare(r['timeslot']):\n",
    "                restStruct[restName]['menus'].append(menu)\n",
    "            \n",
    "s = seedData.apply(buildStruct, axis=1)"
   ]
  },
  {
   "cell_type": "code",
   "execution_count": 8,
   "metadata": {},
   "outputs": [],
   "source": [
    "dataOut = json.dumps(restStruct, indent=2)\n",
    "with open(\"update_data.json\", \"w\") as outfile: \n",
    "    outfile.write(dataOut) "
   ]
  },
  {
   "cell_type": "code",
   "execution_count": 9,
   "metadata": {},
   "outputs": [],
   "source": [
    "# Output the csvs\n",
    "with open(\"timeslot_data.csv\", \"w\") as outfile:\n",
    "    writer = csv.writer(outfile)\n",
    "    writer.writerow(['id', 'restaurantId', 'hospitalId', 'userId', 'date'])\n",
    "    for restName in restStruct:\n",
    "        for ts in restStruct[restName]['timeslots']:\n",
    "            writer.writerow([ts['id'], ts['restaurantId'], ts['hospitalId'], ts['userId'], ts['date']])"
   ]
  },
  {
   "cell_type": "code",
   "execution_count": 10,
   "metadata": {},
   "outputs": [],
   "source": [
    "# Output the csvs\n",
    "with open(\"menu_data.csv\", \"w\") as outfile:\n",
    "    writer = csv.writer(outfile)\n",
    "    writer.writerow(['timeslotId', 'mealinfoId', 'userId', 'mealName', 'mealDescription', 'allergens', 'dietaryRestrictions'])\n",
    "    for restName in restStruct:\n",
    "        for ts in restStruct[restName]['menus']:\n",
    "            writer.writerow([ts['timeslotId'], ts['mealinfoId'], ts['userId'], ts['mealName'], ts['mealDescription'], ts['allergens'], ts['dietaryRestrictions']])\n",
    "            "
   ]
  },
  {
   "cell_type": "code",
   "execution_count": 11,
   "metadata": {},
   "outputs": [],
   "source": [
    "# Output the csvs\n",
    "with open(\"meal_data.csv\", \"w\") as outfile:\n",
    "    writer = csv.writer(outfile)\n",
    "    writer.writerow(['restaurantId', 'mealinfoId', 'userId', 'mealName', 'mealDescription', 'allergens', 'dietaryRestrictions'])\n",
    "    for restName in restStruct:\n",
    "        for ts in restStruct[restName]['meals']:\n",
    "            writer.writerow([ts['restaurantId'], ts['mealinfoId'], ts['userId'], ts['name'], ts['description'], ts['allergens'], ts['dietaryRestrictions']])\n",
    "            "
   ]
  },
  {
   "cell_type": "code",
   "execution_count": null,
   "metadata": {},
   "outputs": [],
   "source": []
  }
 ],
 "metadata": {
  "kernelspec": {
   "display_name": "Python 2",
   "language": "python",
   "name": "python2"
  },
  "language_info": {
   "codemirror_mode": {
    "name": "ipython",
    "version": 2
   },
   "file_extension": ".py",
   "mimetype": "text/x-python",
   "name": "python",
   "nbconvert_exporter": "python",
   "pygments_lexer": "ipython2",
   "version": "2.7.10"
  }
 },
 "nbformat": 4,
 "nbformat_minor": 2
}
