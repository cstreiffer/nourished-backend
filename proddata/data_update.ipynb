{
 "cells": [
  {
   "cell_type": "code",
   "execution_count": 13,
   "metadata": {},
   "outputs": [],
   "source": [
    "import pandas as pd\n",
    "import numpy as np\n",
    "import json\n",
    "import csv\n",
    "from datetime import datetime"
   ]
  },
  {
   "cell_type": "code",
   "execution_count": 14,
   "metadata": {},
   "outputs": [],
   "source": [
    "usersOld = pd.read_csv('data-live-week3/users_prod.csv')\n",
    "restsOld = pd.read_csv('data-live-week3/restaurants_prod.csv')\n",
    "# mealsOld = pd.read_csv('data-live/meals_prod.csv')\n",
    "hospsOld = pd.read_csv('data-live-week3/hospitals_prod.csv')\n",
    "# infosOld = pd.read_csv('data-live/mealinfo_prod.csv')\n",
    "seedData = pd.read_csv('data-live-week3/seed_data.csv')"
   ]
  },
  {
   "cell_type": "code",
   "execution_count": 15,
   "metadata": {},
   "outputs": [],
   "source": [
    "userDict = {}\n",
    "restDict = {}\n",
    "mealDict = {}\n",
    "infoDict = {}\n",
    "hospDict = {}\n",
    "def userToDict(r):\n",
    "    userDict[r.username] = {\"id\":r.id}\n",
    "def restToDict(r):\n",
    "    restDict[r.restName] = {\"id\":r.id, \"userId\":r.userId}\n",
    "def mealToDict(r):\n",
    "    mealDict[r.mealName.rstrip()] = {\"id\":r.id, \"restName\":r.restName, \"userId\":r.userId, \"mealName\" : r.mealName}\n",
    "def infoToDict(r):\n",
    "    infoDict[r.type] = {\"id\":r.id}\n",
    "def hospToDict(r):\n",
    "    hospDict[r.hospName] = {\"id\":r.id}\n",
    "\n",
    "v = usersOld.apply(userToDict, axis=1)\n",
    "v = restsOld.apply(restToDict, axis=1)\n",
    "# v = mealsOld.apply(mealToDict, axis=1)\n",
    "# v = infosOld.apply(infoToDict, axis=1)\n",
    "v = hospsOld.apply(hospToDict, axis=1)"
   ]
  },
  {
   "cell_type": "code",
   "execution_count": 16,
   "metadata": {},
   "outputs": [
    {
     "data": {
      "text/plain": [
       "{'Hospital of the University of Pennsylvania (HUP)': {'id': 'a4e68be8-f417-595a-b7f0-3aa7a7f23a2b'},\n",
       " 'Penn Presbyterian Medical Center (PPMC)': {'id': 'c8e20bfc-f2ad-51a3-8f73-56488d3a1cc5'},\n",
       " 'Pennsylvania Hospital (PAH, Pennsy)': {'id': 'add6685c-120d-5dc7-85a1-30d0895cfd9d'}}"
      ]
     },
     "execution_count": 16,
     "metadata": {},
     "output_type": "execute_result"
    }
   ],
   "source": [
    "hospDict"
   ]
  },
  {
   "cell_type": "code",
   "execution_count": 17,
   "metadata": {},
   "outputs": [],
   "source": [
    "# Convert the date correctly\n",
    "def getDate(r):\n",
    "    time = ''\n",
    "    if(r['meal'] == 'Lunch'):\n",
    "        time = '12:00:00-04'\n",
    "    elif(r['hospital'] == 'Hospital of the University of Pennsylvania (HUP)'):\n",
    "        time = '20:30:00-04'\n",
    "    elif(r['meal'] == 'Dinner'):\n",
    "        time = '20:00:00-04'\n",
    "    else:\n",
    "        print(r)\n",
    "    date = [\"%02d\" % int(v) for v in r['date'].split('/')]\n",
    "    date = \"%s-%s-%s\" % (date[2], date[0], date[1])\n",
    "    return (\"%s %s\" % (date, time))\n",
    "\n",
    "seedData['timeslot'] = seedData[['hospital', 'date', 'meal']].apply(getDate, axis=1)\n",
    "seedData = seedData.fillna(value=False)"
   ]
  },
  {
   "cell_type": "code",
   "execution_count": 18,
   "metadata": {},
   "outputs": [],
   "source": [
    "# np.unique(np.concatenate([seedData['mealDiet%i' %i].unique() for i in range(1, 5)]))"
   ]
  },
  {
   "cell_type": "code",
   "execution_count": 19,
   "metadata": {},
   "outputs": [],
   "source": [
    "dietLookup = {\n",
    "  \"V\" : \"Vegan\",\n",
    "  \"VG\" : \"Vegetarian\",\n",
    "  \"GF\" : \"Gluten Free\",\n",
    "  \"DF\" : \"Dairy Free\",\n",
    "  \"Vegan\": \"Vegan\",\n",
    "  \"Vegetarian\" : \"Vegetarian\",\n",
    "  \"Dairy-Free\": \"Dairy Free\",\n",
    "  \"Gluten-Free\" : \"Gluten Free\"\n",
    "}\n",
    "allergenLookup = {\n",
    "  'Milk/Dairy' : 'milk/dairy',\n",
    "  'Milk/dairy' : \"milk/dairy\",\n",
    "  'Eggs' : \"eggs\",\n",
    "  'Eggs in aioli' : 'eggs',\n",
    "  'Pumpkin seeds (seed allergy)' : \"pumpkin seeds\",\n",
    "  'Sesame' : 'sesame',\n",
    "  'Sesame Oil' : 'sesame',\n",
    "  'Soy' : 'soy',\n",
    "  'Dairy' : 'milk/dairy',\n",
    "  'Tree nuts' : 'tree nuts',\n",
    "  'Fish': 'fish',\n",
    "  'Shellfish' : 'shellfish',\n",
    "  'Wheat' : 'wheat',\n",
    "  'Peanuts': 'peanuts'\n",
    "}"
   ]
  },
  {
   "cell_type": "code",
   "execution_count": 20,
   "metadata": {},
   "outputs": [
    {
     "name": "stdout",
     "output_type": "stream",
     "text": [
      "('Southern Caesar Salad', 'Rex 1516')\n",
      "('Strawberry Salad', 'Rex 1516')\n",
      "('Smoked Pulled Pork Sandwich', 'Rex 1516')\n",
      "('Blackened Shrimp Po\\xe2\\x80\\x99Boy', 'Rex 1516')\n",
      "('Cold Longevity Noodles with Roasted Chicken', 'Baology')\n",
      "('Cold Longevity Noodles with Shredded Heritage Pork', 'Baology')\n",
      "('Cold Longevity Noodles with Soy-Braised Egg', 'Baology')\n",
      "('Chicken & Broccoli', 'Baology')\n",
      "('Pork & Broccoli', 'Baology')\n",
      "('Local Tofu & Broccoli', 'Baology')\n",
      "('Ensalada Ynez', 'Cafe Ynez')\n",
      "('Veggie burrito', 'Cafe Ynez')\n",
      "('Chicken quesadilla', 'Cafe Ynez')\n",
      "('Carnitas burrito', 'Cafe Ynez')\n",
      "('Crispy Chicken Sandwich', 'On Point Bistro')\n",
      "('VEGAN Housemade Black Bean Burger', 'On Point Bistro')\n",
      "('Chicken Caesar Salad', 'On Point Bistro')\n",
      "('Crab Cake with Cucumber & Cabbage Slaw, Horseradish Aioli', 'Pumpkin')\n",
      "('Rigatoni with Golden Raisins, Calabrian Chili, Green Olive', 'Pumpkin')\n",
      "('Mixed Veggies, Tabouli, Tahini, Chickpeas', 'Pumpkin')\n",
      "('Porchetta Wrap', 'On Point Bistro')\n",
      "('Veggie Pasta', 'On Point Bistro')\n",
      "('VEGAN Eggplant Rollatini', 'On Point Bistro')\n",
      "('California Cobb Salad', 'Simply Good Jars')\n",
      "('Simply Greek Salad', 'Simply Good Jars')\n",
      "('Smoked Salmon Salad', 'Simply Good Jars')\n",
      "('Ensalada Ynez w/ chicken', 'Cafe Ynez')\n",
      "('Veggie quesadilla', 'Cafe Ynez')\n",
      "('Cauliflower tacos', 'Cafe Ynez')\n",
      "('Chicken tinga burrito', 'Cafe Ynez')\n",
      "('Taiwanese Fried Chicken with Egg Fried Rice', 'Baology')\n",
      "('Roasted Pork Belly with Egg Fried Rice', 'Baology')\n",
      "('5-Spiced Local Tofu with Egg Fried Rice', 'Baology')\n",
      "('Pepian Chicken Dobladas with Elote and Refried Beans', 'El Merkury')\n",
      "('Veggie Doblada with Elote & refried beans', 'El Merkury')\n",
      "('3 Chile Chicken Taquito with baked rice', 'El Merkury')\n",
      "('Ensalada Ynez w/ shrimp', 'Cafe Ynez')\n",
      "('Shells and cheese', 'Rex 1516')\n",
      "('Rex Cheeseburger', 'Rex 1516')\n",
      "('Grilled broccoli salad', 'Rex 1516')\n",
      "('Grilled chicken green salad', 'Rex 1516')\n",
      "('Veggie enchiladas', 'Cafe Ynez')\n",
      "('Roasted Chicken with a Strawberry-Beet Salad', 'Baology')\n",
      "('Seared Jail Island Salmon with a Strawberry-Beet Salad', 'Baology')\n",
      "('Roasted Local Mushrooms with a Strawberry-Beet Salad', 'Baology')\n"
     ]
    }
   ],
   "source": [
    "# Build the restaurant struct\n",
    "restStruct = {}\n",
    "mealInfoStruct = {}\n",
    "\n",
    "def dateCompare(t0, t1='2020-05-18 00:00:00-04'):\n",
    "    v1 = datetime.strptime(t0, '%Y-%m-%d %H:%M:%S-04')\n",
    "    v2 = datetime.strptime(t1, '%Y-%m-%d %H:%M:%S-04')\n",
    "    return v1 > v2\n",
    "\n",
    "def buildStruct(r):\n",
    "    restName = r['restName']\n",
    "    restStruct[restName] = restStruct.get(restName, {\"mealIds\": {}, \"meals\": [], \"timeslots\": [], \"menus\": []})\n",
    "    # Create the timeslot and add to list\n",
    "    timeslotId = str((\"%s-%s-%s\" % (restName, r['timeslot'], r['hospital'])).__hash__())\n",
    "    timeslot = {\n",
    "        \"id\": timeslotId,\n",
    "        \"hospitalId\": hospDict[r['hospital']]['id'],\n",
    "        \"restaurantId\": restDict[r['restName']]['id'],\n",
    "        \"date\": r['timeslot'],\n",
    "        \"userId\": restDict[r['restName']]['userId']\n",
    "    }\n",
    "    if dateCompare(r['timeslot']):\n",
    "        restStruct[restName]['timeslots'].append(timeslot) \n",
    "    # Generate the meals/menus\n",
    "    for i in range(1, 5):\n",
    "        mealName = r[\"mealName%d\" % i]\n",
    "        if(mealName):\n",
    "            mealName = mealName.rstrip()\n",
    "            allergens, dietaryRestrictions = [], []\n",
    "            mealType = r['meal'].lower().lstrip().rstrip()\n",
    "            price = r['mealPrice%d' %i]\n",
    "            mealInfoId = '%s - %0.2f' % (mealType, price) \n",
    "            if (not mealInfoId in mealInfoStruct):\n",
    "                mealInfoStruct[mealInfoId] = {\n",
    "                    \"id\" : mealInfoId,\n",
    "                    \"type\" : mealInfoId,\n",
    "                    \"price\" : price\n",
    "                }\n",
    "            \n",
    "            if(r['mealAllergens%d' %i]):\n",
    "                allergens = [v.lstrip().rstrip() for v in r['mealAllergens%d' %i].split(',')]\n",
    "                allergens = [allergenLookup[a] for a in allergens]\n",
    "            if(r['mealDiet%d' % i]):\n",
    "                dietaryRestrictions = [v.lstrip().rstrip() for v in r['mealDiet%d' % i].split(',')]\n",
    "                dietaryRestrictions = [dietLookup[d] for d in dietaryRestrictions]\n",
    "        # Check if meal exists else add\n",
    "            if(not mealName in mealDict):\n",
    "                print(mealName, restName);\n",
    "                meal = {\n",
    "                    \"name\": mealName,\n",
    "                    \"description\": r['mealDesc%d' %i],\n",
    "                    \"allergens\" : allergens,\n",
    "                    \"dietaryRestrictions\": dietaryRestrictions,\n",
    "                    \"mealinfoId\": mealInfoStruct[mealInfoId]['id'],\n",
    "                    \"restaurantId\": restDict[r['restName']]['id'],\n",
    "                    \"userId\": restDict[r['restName']]['userId'],\n",
    "                    \"price\": r['mealPrice%d' %i]\n",
    "                }\n",
    "                mealDict[mealName] = meal\n",
    "                restStruct[restName]['meals'].append(meal)\n",
    "            # Add the menu to the list\n",
    "            menu = {\n",
    "                \"timeslotId\": timeslotId,\n",
    "                \"mealinfoId\": mealInfoStruct[mealInfoId]['id'],\n",
    "                \"mealName\": mealName,\n",
    "                \"mealDescription\": r['mealDesc%d' %i],\n",
    "                \"allergens\" : allergens,\n",
    "                \"dietaryRestrictions\": dietaryRestrictions,\n",
    "                \"userId\": restDict[r['restName']]['userId'],\n",
    "                \"price\": r['mealPrice%d' %i]\n",
    "            }\n",
    "            if dateCompare(r['timeslot']):\n",
    "                restStruct[restName]['menus'].append(menu)\n",
    "            \n",
    "s = seedData.apply(buildStruct, axis=1)"
   ]
  },
  {
   "cell_type": "code",
   "execution_count": 21,
   "metadata": {},
   "outputs": [],
   "source": [
    "dataOut = json.dumps(restStruct, indent=2)\n",
    "with open(\"update_data.json\", \"w\") as outfile: \n",
    "    outfile.write(dataOut)\n",
    "mealInfoOut = json.dumps(mealInfoStruct, indent=2)\n",
    "with open(\"mi_update_data.json\", \"w\") as outfile: \n",
    "    outfile.write(mealInfoOut) "
   ]
  },
  {
   "cell_type": "code",
   "execution_count": 22,
   "metadata": {},
   "outputs": [],
   "source": [
    "# Output the csvs\n",
    "with open(\"timeslot_data.csv\", \"w\") as outfile:\n",
    "    writer = csv.writer(outfile)\n",
    "    writer.writerow(['id', 'restaurantId', 'hospitalId', 'userId', 'date'])\n",
    "    for restName in restStruct:\n",
    "        for ts in restStruct[restName]['timeslots']:\n",
    "            writer.writerow([ts['id'], ts['restaurantId'], ts['hospitalId'], ts['userId'], ts['date']])"
   ]
  },
  {
   "cell_type": "code",
   "execution_count": 23,
   "metadata": {},
   "outputs": [],
   "source": [
    "# Output the csvs\n",
    "with open(\"menu_data.csv\", \"w\") as outfile:\n",
    "    writer = csv.writer(outfile)\n",
    "    writer.writerow(['timeslotId', 'mealinfoId', 'userId', 'mealName', 'mealDescription', 'allergens', 'dietaryRestrictions'])\n",
    "    for restName in restStruct:\n",
    "        for ts in restStruct[restName]['menus']:\n",
    "            writer.writerow([ts['timeslotId'], ts['mealinfoId'], ts['userId'], ts['mealName'], ts['mealDescription'], ts['allergens'], ts['dietaryRestrictions']])\n",
    "            "
   ]
  },
  {
   "cell_type": "code",
   "execution_count": 24,
   "metadata": {},
   "outputs": [],
   "source": [
    "# Output the csvs\n",
    "with open(\"meal_data.csv\", \"w\") as outfile:\n",
    "    writer = csv.writer(outfile)\n",
    "    writer.writerow(['restaurantId', 'mealinfoId', 'userId', 'mealName', 'mealDescription', 'allergens', 'dietaryRestrictions'])\n",
    "    for restName in restStruct:\n",
    "        for ts in restStruct[restName]['meals']:\n",
    "            writer.writerow([ts['restaurantId'], ts['mealinfoId'], ts['userId'], ts['name'], ts['description'], ts['allergens'], ts['dietaryRestrictions']])\n",
    "            "
   ]
  }
 ],
 "metadata": {
  "kernelspec": {
   "display_name": "Python 2",
   "language": "python",
   "name": "python2"
  },
  "language_info": {
   "codemirror_mode": {
    "name": "ipython",
    "version": 2
   },
   "file_extension": ".py",
   "mimetype": "text/x-python",
   "name": "python",
   "nbconvert_exporter": "python",
   "pygments_lexer": "ipython2",
   "version": "2.7.10"
  }
 },
 "nbformat": 4,
 "nbformat_minor": 2
}
